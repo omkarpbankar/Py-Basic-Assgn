{
 "cells": [
  {
   "cell_type": "markdown",
   "id": "0039e6a8",
   "metadata": {},
   "source": [
    "# 1. Is the Python Standard Library included with PyInputPlus?"
   ]
  },
  {
   "cell_type": "code",
   "execution_count": 1,
   "id": "0ec55cee",
   "metadata": {},
   "outputs": [
    {
     "ename": "ModuleNotFoundError",
     "evalue": "No module named 'PyInputPlus'",
     "output_type": "error",
     "traceback": [
      "\u001b[1;31m---------------------------------------------------------------------------\u001b[0m",
      "\u001b[1;31mModuleNotFoundError\u001b[0m                       Traceback (most recent call last)",
      "\u001b[1;32m<ipython-input-1-3f1cbeadb27c>\u001b[0m in \u001b[0;36m<module>\u001b[1;34m\u001b[0m\n\u001b[1;32m----> 1\u001b[1;33m \u001b[1;32mimport\u001b[0m \u001b[0mPyInputPlus\u001b[0m \u001b[1;32mas\u001b[0m \u001b[0mpypi\u001b[0m \u001b[1;31m# Python Standard Library doesn't include PyInputPlus.\u001b[0m\u001b[1;33m\u001b[0m\u001b[1;33m\u001b[0m\u001b[0m\n\u001b[0m",
      "\u001b[1;31mModuleNotFoundError\u001b[0m: No module named 'PyInputPlus'"
     ]
    }
   ],
   "source": [
    "import PyInputPlus as pypi # Python Standard Library doesn't include PyInputPlus."
   ]
  },
  {
   "cell_type": "code",
   "execution_count": 8,
   "id": "9ffbf076",
   "metadata": {},
   "outputs": [
    {
     "name": "stdout",
     "output_type": "stream",
     "text": [
      "Requirement already satisfied: PyInputPlus in c:\\users\\admin\\anaconda3\\lib\\site-packages (0.2.12)\n",
      "Requirement already satisfied: stdiomask>=0.0.3 in c:\\users\\admin\\anaconda3\\lib\\site-packages (from PyInputPlus) (0.0.6)\n",
      "Requirement already satisfied: pysimplevalidate>=0.2.7 in c:\\users\\admin\\anaconda3\\lib\\site-packages (from PyInputPlus) (0.2.12)\n"
     ]
    }
   ],
   "source": [
    "!pip install PyInputPlus"
   ]
  },
  {
   "cell_type": "markdown",
   "id": "0d3109ed",
   "metadata": {},
   "source": [
    "# 2. Why is PyInputPlus commonly imported with import pyinputplus as pypi?"
   ]
  },
  {
   "cell_type": "markdown",
   "id": "c6ad1bcd",
   "metadata": {},
   "source": [
    "The as pyip code in the import statement saves us from typing pyinputplus each time we want to call a PyInputPlus function. Instead we can use the shorter pyip name."
   ]
  },
  {
   "cell_type": "markdown",
   "id": "210b8f08",
   "metadata": {},
   "source": [
    "# 3. How do you distinguish between inputInt() and inputFloat()?"
   ]
  },
  {
   "cell_type": "markdown",
   "id": "74b354e9",
   "metadata": {},
   "source": [
    "inputInt() : Accepts an integer value. This also takes additional parameters ‘min’, ‘max’, ‘greaterThan’ and ‘lessThan’  for bounds. Returns an int.\n",
    "inputFloat() : Accepts a floating-point numeric value. Also takes additional ‘min’, ‘max’, ‘greaterThan’ and ‘lessThan’  parameters. Returns a float."
   ]
  },
  {
   "cell_type": "markdown",
   "id": "d56a3d71",
   "metadata": {},
   "source": [
    "# 4. Using PyInputPlus, how do you ensure that the user enters a whole number between 0 and 99?"
   ]
  },
  {
   "cell_type": "markdown",
   "id": "5a26006b",
   "metadata": {},
   "source": [
    "with the help of this pypi.inputInt() "
   ]
  },
  {
   "cell_type": "code",
   "execution_count": null,
   "id": "79670883",
   "metadata": {},
   "outputs": [],
   "source": [
    "pypi.inputInt(min=0, max=99)"
   ]
  },
  {
   "cell_type": "markdown",
   "id": "22c83469",
   "metadata": {},
   "source": [
    "# 5. What is transferred to the keyword arguments allowRegexes and blockRegexes?"
   ]
  },
  {
   "cell_type": "markdown",
   "id": "aed193bb",
   "metadata": {},
   "source": [
    "You can also use regular expressions to specify whether an input is allowed or not. The allowRegexes and blockRegexes keyword arguments take a list of regular expression strings to determine what the PyInputPlus function will accept or reject as valid input."
   ]
  },
  {
   "cell_type": "markdown",
   "id": "3c67e5ed",
   "metadata": {},
   "source": [
    "# 6. If a blank input is entered three times, what does inputStr(limit=3) do?"
   ]
  },
  {
   "cell_type": "markdown",
   "id": "7bb7475e",
   "metadata": {},
   "source": [
    "By default, blank input isn’t allowed unless the blank keyword argument is set to True.\n",
    "It will throw a following message. \n",
    "\"Blank values are not allowed.\""
   ]
  },
  {
   "cell_type": "markdown",
   "id": "6538ef85",
   "metadata": {},
   "source": [
    "# 7. If blank input is entered three times, what does inputStr(limit=3, default='hello') do?"
   ]
  },
  {
   "cell_type": "markdown",
   "id": "b885c549",
   "metadata": {},
   "source": [
    "It will accept the input as default \"hello\""
   ]
  },
  {
   "cell_type": "markdown",
   "id": "75c362ad",
   "metadata": {},
   "source": [
    "for my reference \n",
    "https://automatetheboringstuff.com/2e/"
   ]
  }
 ],
 "metadata": {
  "kernelspec": {
   "display_name": "Python 3",
   "language": "python",
   "name": "python3"
  },
  "language_info": {
   "codemirror_mode": {
    "name": "ipython",
    "version": 3
   },
   "file_extension": ".py",
   "mimetype": "text/x-python",
   "name": "python",
   "nbconvert_exporter": "python",
   "pygments_lexer": "ipython3",
   "version": "3.8.12"
  }
 },
 "nbformat": 4,
 "nbformat_minor": 5
}
