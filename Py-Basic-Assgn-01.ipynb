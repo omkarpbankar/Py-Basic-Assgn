{
 "cells": [
  {
   "cell_type": "markdown",
   "metadata": {},
   "source": [
    "# 1. In the below elements which of them are values or an expression? eg:- values can be integer or string and expressions will be mathematical operators.\n",
    "\n",
    "\n",
    "1) * : It is an expression. \n",
    "2) 'Hello' : It is a value.\n",
    "3) -87.8 : It is a value.\n",
    "4) - : It is an expression. \n",
    "5) / : It is an expression. \n",
    "6) + : It is an expression. \n",
    "7) 6 : It is a value. "
   ]
  },
  {
   "cell_type": "markdown",
   "metadata": {},
   "source": [
    "# 2. What is the difference between string and variable?\n",
    "\n",
    "A string is a data type for a sequence of characters like \"iNeuron Full Stack Data Science Batch-2021\". As we can observe from the example, we can also include numbers, punctuation and even line breaks by using '\\n' for new line. On the other hand, strings can not be used for calculation, evenif your string is just a number eg. 2021. We need to convert it to a number data type first to perform mathematical operation. \n",
    "Furthermore, as a programmer, we have to define the sting by butting single quotes('') or dobule quotes(\"\") around whatever you want to classify as a string. Nevertheless, the string data type is primarily used for reading and writing data. \n",
    "\n",
    "A variable is a name that can be refer to any value. When writing a program, you can assign the value to a variable. \n",
    "for example:\n",
    "a = 10 : Here 'a' is variable which stored the value of 10 as a integer data type. \n",
    "b = \"Omkar Pandit Bankar\" : In here, 'b' is a variable which stored the value of a string data type. \n",
    "Similarly, a variable can store the value for float, list etc. \n"
   ]
  },
  {
   "cell_type": "markdown",
   "metadata": {},
   "source": [
    "# 3. Describe three different data types ?\n",
    "\n",
    "Integer Data Type: Python offers integer data types in it i.e a number without fraction. \n",
    "        Examples : -203,- 2, 0 , 10 , 100, 9999 and so on. \n",
    "Float Data Type  : Python also offers float data types in it. i.e. a number with fraction. \n",
    "        Examples : -4.34 , -4876.9967, 0.797497,87.979795 etc. \n",
    "Boolean Data Type : Python offers boolen data type in it i.e. it can process True and False. \n",
    "        Examples : True = 1 and False = 0\n",
    "        \n"
   ]
  },
  {
   "cell_type": "markdown",
   "metadata": {},
   "source": [
    "# 4. What is an expression made up of? What do all expressions do?\n",
    "\n",
    "An expression is a piece of code that produces a value. It is made up of values, variable, operators, and call to functions. Furthermore, every value has a type.\n",
    "Example: c = a + b\n",
    "        Addition expression, it will generate sum of 'a' and 'b' and assign it to variable 'c'\n",
    "Expressions follow the mathematically rules BODMAS to evaluate the result of an operation on the variable from right to left. \n",
    "Example : f = (9 + 3) * 2 \n",
    "Above is assignment statement whose right-hand side (RHS) consist of two expressions.\n",
    "First expression will be (9 + 3) and second expression will be 12 * 2. \n"
   ]
  },
  {
   "cell_type": "markdown",
   "metadata": {},
   "source": [
    "# This assignment statements, like spam = 10. What is the difference between an expression and a statement?\n",
    "\n",
    "A statement is an instruction that the Python interpreter can execute. Python executes statement and displays the result, if there is one. The result of a print statement is a value. Assignment statements don't produce a result.\n",
    "Example: print(\"Hellow\")\n",
    "         f = ( 9 + 3 ) * 2\n",
    "\n",
    "In another word, “expression” is a combination of values and functions that are combined and interpreted by the compiler to create a new value, as opposed to a “statement” which is just a standalone unit of execution and Python displays the result, if there is one. \n"
   ]
  },
  {
   "cell_type": "markdown",
   "metadata": {},
   "source": [
    "# 6. After running the following code, what does the variable bacon contain?\n",
    "bacon = 22\n",
    "bacon + 1\n",
    "\n",
    "The variable 'bacon' contains integer value 23."
   ]
  },
  {
   "cell_type": "code",
   "execution_count": 2,
   "metadata": {},
   "outputs": [
    {
     "data": {
      "text/plain": [
       "23"
      ]
     },
     "execution_count": 2,
     "metadata": {},
     "output_type": "execute_result"
    }
   ],
   "source": [
    "bacon = 22\n",
    "bacon + 1"
   ]
  },
  {
   "cell_type": "code",
   "execution_count": 3,
   "metadata": {},
   "outputs": [
    {
     "data": {
      "text/plain": [
       "int"
      ]
     },
     "execution_count": 3,
     "metadata": {},
     "output_type": "execute_result"
    }
   ],
   "source": [
    "type(bacon)"
   ]
  },
  {
   "cell_type": "markdown",
   "metadata": {},
   "source": [
    "# What should the values of the following two terms be?\n",
    "'spam' + 'spamspam'\n",
    "'spam' * 3\n",
    "\n",
    "Both will give the same result 'spamspamspam' but the exectution of the expression will be done with different operators. \n",
    "In the first case it will be done by '+' addition operator and in the case of second it wil be done by '*' multiplication operator. "
   ]
  },
  {
   "cell_type": "code",
   "execution_count": 4,
   "metadata": {},
   "outputs": [
    {
     "data": {
      "text/plain": [
       "'spamspamspam'"
      ]
     },
     "execution_count": 4,
     "metadata": {},
     "output_type": "execute_result"
    }
   ],
   "source": [
    "'spam' + 'spamspam'"
   ]
  },
  {
   "cell_type": "code",
   "execution_count": 5,
   "metadata": {},
   "outputs": [
    {
     "data": {
      "text/plain": [
       "'spamspamspam'"
      ]
     },
     "execution_count": 5,
     "metadata": {},
     "output_type": "execute_result"
    }
   ],
   "source": [
    "'spam' * 3"
   ]
  },
  {
   "cell_type": "markdown",
   "metadata": {},
   "source": [
    "# 8. Why is eggs a valid variable name while 100 is invalid?\n",
    "\n",
    "There are certain rules which Pyton interpreter follows while naming the variable name. \n",
    "1. Variable names must begin with a letter from A-Z or the underscore character. Either lowercase or uppercase letters are acceptable.\n",
    "2. Variable names may contain letters, digits (0-9) or the underscore character.\n",
    "3. Variable names may not be a reserved word in Python\n",
    "\n",
    "As a reference, Python's reserved words list includes:\n",
    "\n",
    "and\tas\tassert\tbreak\n",
    "class\tcontinue\tdef\tdel\n",
    "elif\telse\texcept\tFalse\n",
    "finally\tfor\tfrom\tglobal\n",
    "if\timport\tin\tis\n",
    "lambda\tNone\tnonlocal\tnot\n",
    "or\tpass\traise\treturn\n",
    "True\ttry\twhile\twith\n",
    "yield\t\t\n",
    "\n",
    "\n",
    "Therefore, egg is a valid variable and 100 is invalid variable name in Python. "
   ]
  },
  {
   "cell_type": "markdown",
   "metadata": {},
   "source": [
    "# 9. What three functions can be used to get the integer, floating-point number, or string version of a value?\n",
    "\n",
    "The int() , float() , and str( ) functions will evaluate to the integer, floating-point number, and string versions of the value passed to them. "
   ]
  },
  {
   "cell_type": "markdown",
   "metadata": {},
   "source": [
    "# 10. Why does this expression cause an error? How can you fix it?\n",
    "\n",
    "'I have eaten ' + 99 + ' burritos.'\n",
    "\n",
    "Because 'I have eaten ' is a string , second value 99 is an integer and third value is a string. \n",
    "We can't add add an integer or a string in python. We have to conver 99 to a string then we can execute the expression. "
   ]
  },
  {
   "cell_type": "code",
   "execution_count": 6,
   "metadata": {},
   "outputs": [
    {
     "data": {
      "text/plain": [
       "'I have eaten 99 burritos.'"
      ]
     },
     "execution_count": 6,
     "metadata": {},
     "output_type": "execute_result"
    }
   ],
   "source": [
    "'I have eaten ' + '99' + ' burritos.'"
   ]
  },
  {
   "cell_type": "code",
   "execution_count": null,
   "metadata": {},
   "outputs": [],
   "source": []
  }
 ],
 "metadata": {
  "kernelspec": {
   "display_name": "Python 3",
   "language": "python",
   "name": "python3"
  },
  "language_info": {
   "codemirror_mode": {
    "name": "ipython",
    "version": 3
   },
   "file_extension": ".py",
   "mimetype": "text/x-python",
   "name": "python",
   "nbconvert_exporter": "python",
   "pygments_lexer": "ipython3",
   "version": "3.8.5"
  }
 },
 "nbformat": 4,
 "nbformat_minor": 4
}
