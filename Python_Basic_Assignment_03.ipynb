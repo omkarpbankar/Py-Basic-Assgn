{
 "cells": [
  {
   "cell_type": "markdown",
   "id": "06793cd9",
   "metadata": {},
   "source": [
    "# 1. Why are functions advantageous to have in your programs?"
   ]
  },
  {
   "cell_type": "markdown",
   "id": "6ecd054c",
   "metadata": {},
   "source": [
    "Function is the collection of statement which we call it multiples times.\n",
    "Function or method is the most useful module in any programming language. \n",
    "If we have written a statement and it another method we want that same method so we have to write that code once again bit if we create a function of that method then we can call it multiple times everywhere."
   ]
  },
  {
   "cell_type": "markdown",
   "id": "7cf1b408",
   "metadata": {},
   "source": [
    "# 2. When does the code in a function run: when it's specified or when it's called?"
   ]
  },
  {
   "cell_type": "markdown",
   "id": "8e9250a2",
   "metadata": {},
   "source": [
    "The function is describe by “def” word in other programming languages we use close loop function with the help of curly bracket {} but in python we use syntax :\n",
    "def  function_name():\n",
    "if we want to call any function we have to call it by its function name\n",
    "ex: \tdef demo():\n",
    "\t\tprint(“Hello”)\n",
    "\tdemo()\t\t-----calling a function."
   ]
  },
  {
   "cell_type": "markdown",
   "id": "66fcea61",
   "metadata": {},
   "source": [
    "# 3. What statement creates a function?"
   ]
  },
  {
   "cell_type": "markdown",
   "id": "1a356fd9",
   "metadata": {},
   "source": [
    "The “def” keyword is a statement for defining a function in Python.\n",
    "\t\n",
    "ex: \tdef demo():\n",
    "\t\t\tprint(“Hello”)\n",
    "\t\t\tdemo()\t\n"
   ]
  },
  {
   "cell_type": "markdown",
   "id": "5b4f997c",
   "metadata": {},
   "source": [
    "# 4. What is the difference between a function and a function call?"
   ]
  },
  {
   "cell_type": "markdown",
   "id": "381d1669",
   "metadata": {},
   "source": [
    "def demo():\n",
    "\tprint(“Hello”)\n",
    "Above line of code is a function for printing a \"Hello\" word.\n",
    "\n",
    "demo()\n",
    "Above line of code is a function call.\n",
    "Kindly refer below illustration. \n"
   ]
  },
  {
   "cell_type": "code",
   "execution_count": 2,
   "id": "bab69f54",
   "metadata": {},
   "outputs": [],
   "source": [
    "def demo():\n",
    "    print('Hello')\n",
    "    "
   ]
  },
  {
   "cell_type": "code",
   "execution_count": 3,
   "id": "f8aaa15e",
   "metadata": {},
   "outputs": [
    {
     "name": "stdout",
     "output_type": "stream",
     "text": [
      "Hello\n"
     ]
    }
   ],
   "source": [
    "demo()"
   ]
  },
  {
   "cell_type": "markdown",
   "id": "97488d6a",
   "metadata": {},
   "source": [
    "# 5. How many global scopes are there in a Python program? How many local scopes?"
   ]
  },
  {
   "cell_type": "markdown",
   "id": "cb2e1645",
   "metadata": {},
   "source": [
    "There are 4 scope in python.\n",
    "\tGlobal scope is used in outside the function or method.\n",
    "\tLocal scope is used for inside the function or method.\n"
   ]
  },
  {
   "cell_type": "markdown",
   "id": "0d7fb815",
   "metadata": {},
   "source": [
    "# 6. What happens to variables in a local scope when the function call returns?"
   ]
  },
  {
   "cell_type": "markdown",
   "id": "487ad0f4",
   "metadata": {},
   "source": [
    "The local variable disappears after the function returns. "
   ]
  },
  {
   "cell_type": "markdown",
   "id": "2f13082c",
   "metadata": {},
   "source": [
    "# 7. What is the concept of a return value? Is it possible to have a return value in an expression?"
   ]
  },
  {
   "cell_type": "markdown",
   "id": "f45297e8",
   "metadata": {},
   "source": [
    "When you return any value then it will pass to the parameter which is call by a function.\n",
    "Yes it is possible to have a return value in expression ex: return x+y\n"
   ]
  },
  {
   "cell_type": "markdown",
   "id": "5219ead2",
   "metadata": {},
   "source": [
    "# 8. If a function does not have a return statement, what is the return value of a call to that function?"
   ]
  },
  {
   "cell_type": "markdown",
   "id": "8aeb01be",
   "metadata": {},
   "source": [
    "If we are not using a return function then it will not return any value and that function will run without that statement."
   ]
  },
  {
   "cell_type": "markdown",
   "id": "a84236be",
   "metadata": {},
   "source": [
    "# 9. How do you make a function variable refer to the global variable?"
   ]
  },
  {
   "cell_type": "markdown",
   "id": "65b60c19",
   "metadata": {},
   "source": [
    "If  we want to create a global variable in function then we have to used global keyword."
   ]
  },
  {
   "cell_type": "code",
   "execution_count": 7,
   "id": "cc6f8ffd",
   "metadata": {},
   "outputs": [
    {
     "name": "stdout",
     "output_type": "stream",
     "text": [
      "sucess\n",
      "100\n"
     ]
    }
   ],
   "source": [
    "def demo():\n",
    "    global a\n",
    "    a =100\n",
    "    print(\"sucess\")\n",
    "    \n",
    "demo()\n",
    "print(a)"
   ]
  },
  {
   "cell_type": "markdown",
   "id": "864971fc",
   "metadata": {},
   "source": [
    "# 10. What is the data type of None?"
   ]
  },
  {
   "cell_type": "markdown",
   "id": "ea034e90",
   "metadata": {},
   "source": [
    "None is used to define a null value. It is not the same as an empty string, False, or a zero. It is a data type of the class NoneType object. "
   ]
  },
  {
   "cell_type": "code",
   "execution_count": 8,
   "id": "dba40ddd",
   "metadata": {},
   "outputs": [],
   "source": [
    "sample = None"
   ]
  },
  {
   "cell_type": "code",
   "execution_count": 10,
   "id": "194e5e02",
   "metadata": {},
   "outputs": [
    {
     "name": "stdout",
     "output_type": "stream",
     "text": [
      "None\n"
     ]
    }
   ],
   "source": [
    "print(sample)"
   ]
  },
  {
   "cell_type": "markdown",
   "id": "4fd9adfe",
   "metadata": {},
   "source": [
    "# 11. What does the sentence import are all your petsnamederic do?"
   ]
  },
  {
   "cell_type": "markdown",
   "id": "b02aa2b3",
   "metadata": {},
   "source": [
    "Import is use to import different libraries or if we want to call any function from different packages that time this import is used."
   ]
  },
  {
   "cell_type": "markdown",
   "id": "92816c89",
   "metadata": {},
   "source": [
    "# 12. If you had a bacon() feature in a spam module, what would you call it after importing spam?"
   ]
  },
  {
   "cell_type": "markdown",
   "id": "d388e106",
   "metadata": {},
   "source": [
    "If we are importing any function or method from another package then it’s called reference function.\n",
    "From spam import *\n",
    "Bacon():\n"
   ]
  },
  {
   "cell_type": "markdown",
   "id": "54142eef",
   "metadata": {},
   "source": [
    "# 13. What can you do to save a programme from crashing if it encounters an error?"
   ]
  },
  {
   "cell_type": "markdown",
   "id": "4f57b612",
   "metadata": {},
   "source": [
    "Using Exception handling \n",
    "Ex. "
   ]
  },
  {
   "cell_type": "code",
   "execution_count": 5,
   "id": "ccac68ec",
   "metadata": {},
   "outputs": [
    {
     "ename": "NameError",
     "evalue": "name 'Hello' is not defined",
     "output_type": "error",
     "traceback": [
      "\u001b[1;31m---------------------------------------------------------------------------\u001b[0m",
      "\u001b[1;31mNameError\u001b[0m                                 Traceback (most recent call last)",
      "\u001b[1;32m<ipython-input-5-37144d84ed22>\u001b[0m in \u001b[0;36m<module>\u001b[1;34m\u001b[0m\n\u001b[0;32m      2\u001b[0m     \u001b[0mprint\u001b[0m\u001b[1;33m(\u001b[0m\u001b[0mHello\u001b[0m\u001b[1;33m)\u001b[0m\u001b[1;33m\u001b[0m\u001b[1;33m\u001b[0m\u001b[0m\n\u001b[0;32m      3\u001b[0m \u001b[1;33m\u001b[0m\u001b[0m\n\u001b[1;32m----> 4\u001b[1;33m \u001b[0mprintfunction\u001b[0m\u001b[1;33m(\u001b[0m\u001b[1;33m)\u001b[0m\u001b[1;33m\u001b[0m\u001b[1;33m\u001b[0m\u001b[0m\n\u001b[0m",
      "\u001b[1;32m<ipython-input-5-37144d84ed22>\u001b[0m in \u001b[0;36mprintfunction\u001b[1;34m()\u001b[0m\n\u001b[0;32m      1\u001b[0m \u001b[1;32mdef\u001b[0m \u001b[0mprintfunction\u001b[0m\u001b[1;33m(\u001b[0m\u001b[1;33m)\u001b[0m\u001b[1;33m:\u001b[0m\u001b[1;33m\u001b[0m\u001b[1;33m\u001b[0m\u001b[0m\n\u001b[1;32m----> 2\u001b[1;33m     \u001b[0mprint\u001b[0m\u001b[1;33m(\u001b[0m\u001b[0mHello\u001b[0m\u001b[1;33m)\u001b[0m\u001b[1;33m\u001b[0m\u001b[1;33m\u001b[0m\u001b[0m\n\u001b[0m\u001b[0;32m      3\u001b[0m \u001b[1;33m\u001b[0m\u001b[0m\n\u001b[0;32m      4\u001b[0m \u001b[0mprintfunction\u001b[0m\u001b[1;33m(\u001b[0m\u001b[1;33m)\u001b[0m\u001b[1;33m\u001b[0m\u001b[1;33m\u001b[0m\u001b[0m\n",
      "\u001b[1;31mNameError\u001b[0m: name 'Hello' is not defined"
     ]
    }
   ],
   "source": [
    "def printfunction():\n",
    "    print(Hello)\n",
    "\n",
    "printfunction()"
   ]
  },
  {
   "cell_type": "code",
   "execution_count": 6,
   "id": "086100de",
   "metadata": {},
   "outputs": [
    {
     "name": "stdout",
     "output_type": "stream",
     "text": [
      "name 'Hello' is not defined\n"
     ]
    }
   ],
   "source": [
    "def printfunction():\n",
    "    try: \n",
    "        print(Hello)\n",
    "        \n",
    "    except Exception as e:\n",
    "        print(e)\n",
    "        \n",
    "printfunction()"
   ]
  },
  {
   "cell_type": "markdown",
   "id": "311e31b0",
   "metadata": {},
   "source": [
    "# 14. What is the purpose of the try clause? What is the purpose of the except clause?"
   ]
  },
  {
   "cell_type": "markdown",
   "id": "b269f83f",
   "metadata": {},
   "source": [
    "Try block is used to test a block of code for errors\n",
    "And except block used to handle the error."
   ]
  }
 ],
 "metadata": {
  "kernelspec": {
   "display_name": "Python 3",
   "language": "python",
   "name": "python3"
  },
  "language_info": {
   "codemirror_mode": {
    "name": "ipython",
    "version": 3
   },
   "file_extension": ".py",
   "mimetype": "text/x-python",
   "name": "python",
   "nbconvert_exporter": "python",
   "pygments_lexer": "ipython3",
   "version": "3.8.12"
  }
 },
 "nbformat": 4,
 "nbformat_minor": 5
}
