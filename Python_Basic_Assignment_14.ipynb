{
 "cells": [
  {
   "cell_type": "markdown",
   "id": "7a2d0d2e",
   "metadata": {},
   "source": [
    "# 1. What does RGBA stand for?"
   ]
  },
  {
   "cell_type": "markdown",
   "id": "2a39b395",
   "metadata": {},
   "source": [
    "RGBA stands for red green blue alpha."
   ]
  },
  {
   "cell_type": "markdown",
   "id": "db1a2424",
   "metadata": {},
   "source": [
    "# 2. From the Pillow module, how do you get the RGBA value of any images?"
   ]
  },
  {
   "cell_type": "markdown",
   "id": "fe2318e8",
   "metadata": {},
   "source": [
    "In Pillow, RGBA values are represented by a tuple of four integer values. For example, the color red is represented by (255, 0, 0, 255). This color has the maximum amount of red, no green or blue, and the maximum alpha value, meaning it is fully opaque. Green is represented by (0, 255, 0, 255), and blue is (0, 0, 255, 255). White, the combination of all colors, is (255, 255, 255, 255), while black, which has no color at all, is (0, 0, 0, 255)."
   ]
  },
  {
   "cell_type": "markdown",
   "id": "245e6f14",
   "metadata": {},
   "source": [
    "# 3. What is a box tuple, and how does it work?"
   ]
  },
  {
   "cell_type": "markdown",
   "id": "4c689004",
   "metadata": {},
   "source": [
    "The box.tuple submodule provides read-only access for the tuple userdata type. It allows, for a single tuple: selective retrieval of the field contents, retrieval of information about size, iteration over all the fields, and conversion to a Lua table.\n",
    "\n",
    "box.tuple.new()"
   ]
  },
  {
   "cell_type": "markdown",
   "id": "4024ded8",
   "metadata": {},
   "source": [
    "# 4. Use your image and load in notebook then, How can you find out the width and height of an Image object?"
   ]
  },
  {
   "cell_type": "code",
   "execution_count": 1,
   "id": "c2ff02b2",
   "metadata": {},
   "outputs": [],
   "source": [
    "from PIL import Image"
   ]
  },
  {
   "cell_type": "code",
   "execution_count": 3,
   "id": "432bd49f",
   "metadata": {},
   "outputs": [],
   "source": [
    "omkarIm=Image.open('omkar.jpg')"
   ]
  },
  {
   "cell_type": "code",
   "execution_count": 4,
   "id": "35b1c363",
   "metadata": {},
   "outputs": [
    {
     "data": {
      "text/plain": [
       "(1092, 1092)"
      ]
     },
     "execution_count": 4,
     "metadata": {},
     "output_type": "execute_result"
    }
   ],
   "source": [
    "omkarIm.size"
   ]
  },
  {
   "cell_type": "markdown",
   "id": "4b404aa1",
   "metadata": {},
   "source": [
    "# 5. What method would you call to get Image object for a 100×100 image, excluding the lower-left quarter of it?"
   ]
  },
  {
   "cell_type": "code",
   "execution_count": 10,
   "id": "ff1a9ae6",
   "metadata": {},
   "outputs": [],
   "source": [
    "croppedIm=omkarIm.crop((0,0,900,900))"
   ]
  },
  {
   "cell_type": "markdown",
   "id": "19a32939",
   "metadata": {},
   "source": [
    "# 6. After making changes to an Image object, how could you save it as an image file?"
   ]
  },
  {
   "cell_type": "code",
   "execution_count": 11,
   "id": "768c0a4d",
   "metadata": {},
   "outputs": [],
   "source": [
    "croppedIm.save('cropped.png')"
   ]
  },
  {
   "cell_type": "markdown",
   "id": "182cdaed",
   "metadata": {},
   "source": [
    "# 7. What module contains Pillow’s shape-drawing code?"
   ]
  },
  {
   "cell_type": "code",
   "execution_count": 12,
   "id": "eb322387",
   "metadata": {},
   "outputs": [],
   "source": [
    "from PIL import ImageDraw"
   ]
  },
  {
   "cell_type": "markdown",
   "id": "dc0f7ecd",
   "metadata": {},
   "source": [
    "# 8. Image objects do not have drawing methods. What kind of object does? How do you get this kind of object?"
   ]
  },
  {
   "cell_type": "code",
   "execution_count": null,
   "id": "3b3f4978",
   "metadata": {},
   "outputs": [],
   "source": [
    "Turtle "
   ]
  },
  {
   "cell_type": "code",
   "execution_count": 13,
   "id": "1c772cce",
   "metadata": {},
   "outputs": [],
   "source": [
    "from turtle import *\n",
    "color('red', 'yellow')\n",
    "begin_fill()\n",
    "while True:\n",
    "    forward(200)\n",
    "    left(170)\n",
    "    if abs(pos()) < 1:\n",
    "        break\n",
    "end_fill()\n",
    "done()"
   ]
  },
  {
   "cell_type": "code",
   "execution_count": null,
   "id": "13ad7ff3",
   "metadata": {},
   "outputs": [],
   "source": []
  }
 ],
 "metadata": {
  "kernelspec": {
   "display_name": "Python 3",
   "language": "python",
   "name": "python3"
  },
  "language_info": {
   "codemirror_mode": {
    "name": "ipython",
    "version": 3
   },
   "file_extension": ".py",
   "mimetype": "text/x-python",
   "name": "python",
   "nbconvert_exporter": "python",
   "pygments_lexer": "ipython3",
   "version": "3.8.12"
  }
 },
 "nbformat": 4,
 "nbformat_minor": 5
}
