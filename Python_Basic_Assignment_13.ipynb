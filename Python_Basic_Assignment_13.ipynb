{
 "cells": [
  {
   "cell_type": "markdown",
   "id": "a28c9f94",
   "metadata": {},
   "source": [
    "## 1. What advantages do Excel spreadsheets have over CSV spreadsheets?"
   ]
  },
  {
   "cell_type": "markdown",
   "id": "7043acca",
   "metadata": {},
   "source": [
    "SR.No.                      CSV                     EXCEL\n",
    "1\tCSV stands for Comma separated value.\tMS Excel stands for Microsoft Excel.\n",
    "2\tIt is a plain text format with a series of values separated by commas.\tIt is a binary file that holds information about all the worksheets in a workbook.\n",
    "3\tCSV can be opened with any text editor in Windows like notepad, MS Excel, Microsoft Works 9, etc.\tExcel file can be opened with Microsoft Excel doc only.\n",
    "4\tIt is a standard of saving tabular information into a delimited text file.\tIt is a spreadsheet application that saves files into its own format.\n",
    "5\tCSV file saved with extension as .csv.\tExcel file saved with extension as .xls/.xlsx.\n",
    "6\tIt consumes less memory than Excel.\tIt consumes more memory than CSV.\n",
    "7\tNo such feature is available in CSV format when it is compared with Excel.\tIt also provides the user option for external linking of data from other sources and also the user can do custom add-ins.\n",
    "8\tIt is not easier for the end user to read large files in CSV.\tIt is easier for the end user to read large files."
   ]
  },
  {
   "cell_type": "markdown",
   "id": "a530911e",
   "metadata": {},
   "source": [
    "# 2.What do you pass to csv.reader() and csv.writer() to create reader and writer objects?"
   ]
  },
  {
   "cell_type": "markdown",
   "id": "9e943732",
   "metadata": {},
   "source": [
    "csv.reader(csvfile, dialect='excel', **fmtparams)\n",
    "Return a reader object which will iterate over lines in the given csvfile. csvfile can be any object which supports the iterator protocol and returns a string each time its __next__() method is called — file objects and list objects are both suitable. If csvfile is a file object, it should be opened with newline=''. 1 An optional dialect parameter can be given which is used to define a set of parameters specific to a particular CSV dialect. It may be an instance of a subclass of the Dialect class or one of the strings returned by the list_dialects() function. The other optional fmtparams keyword arguments can be given to override individual formatting parameters in the current dialect. For full details about the dialect and formatting parameters, see section Dialects and Formatting Parameters."
   ]
  },
  {
   "cell_type": "markdown",
   "id": "f27e70c7",
   "metadata": {},
   "source": [
    "csv.writer(csvfile, dialect='excel', **fmtparams)\n",
    "Return a writer object responsible for converting the user’s data into delimited strings on the given file-like object. csvfile can be any object with a write() method. If csvfile is a file object, it should be opened with newline='' 1. An optional dialect parameter can be given which is used to define a set of parameters specific to a particular CSV dialect. It may be an instance of a subclass of the Dialect class or one of the strings returned by the list_dialects() function. The other optional fmtparams keyword arguments can be given to override individual formatting parameters in the current dialect."
   ]
  },
  {
   "cell_type": "markdown",
   "id": "b7226ee0",
   "metadata": {},
   "source": [
    "# 3. What modes do File objects for reader and writer objects need to be opened in?"
   ]
  },
  {
   "cell_type": "code",
   "execution_count": null,
   "id": "ea9b690c",
   "metadata": {},
   "outputs": [],
   "source": [
    "#\"w\" mode which is write mode.\n",
    "import csv\n",
    "with open('eggs.csv', 'w', newline='') as csvfile:\n",
    "    spamwriter = csv.writer(csvfile, delimiter=' ',\n",
    "                            quotechar='|', quoting=csv.QUOTE_MINIMAL)\n",
    "    spamwriter.writerow(['Spam'] * 5 + ['Baked Beans'])\n",
    "    spamwriter.writerow(['Spam', 'Lovely Spam', 'Wonderful Spam'])"
   ]
  },
  {
   "cell_type": "markdown",
   "id": "9f433c3b",
   "metadata": {},
   "source": [
    "# 4. What method takes a list argument and writes it to a CSV file?"
   ]
  },
  {
   "cell_type": "code",
   "execution_count": 2,
   "id": "5fba5596",
   "metadata": {},
   "outputs": [],
   "source": [
    "import csv\n",
    "RESULT = [['IsBerry','FruitName'],\n",
    "          [False,'apple'],\n",
    "          [True, 'cherry'],\n",
    "          [False,'orange'],\n",
    "          [False,'pineapple'],\n",
    "          [True, 'strawberry']]\n",
    "with open(\"dashdb.csv\", 'w') as resultFile:\n",
    "    wr = csv.writer(resultFile, dialect='excel')\n",
    "    wr.writerows(RESULT)"
   ]
  },
  {
   "cell_type": "code",
   "execution_count": 4,
   "id": "23041e4a",
   "metadata": {},
   "outputs": [
    {
     "data": {
      "text/html": [
       "<div>\n",
       "<style scoped>\n",
       "    .dataframe tbody tr th:only-of-type {\n",
       "        vertical-align: middle;\n",
       "    }\n",
       "\n",
       "    .dataframe tbody tr th {\n",
       "        vertical-align: top;\n",
       "    }\n",
       "\n",
       "    .dataframe thead th {\n",
       "        text-align: right;\n",
       "    }\n",
       "</style>\n",
       "<table border=\"1\" class=\"dataframe\">\n",
       "  <thead>\n",
       "    <tr style=\"text-align: right;\">\n",
       "      <th></th>\n",
       "      <th>IsBerry</th>\n",
       "      <th>FruitName</th>\n",
       "    </tr>\n",
       "  </thead>\n",
       "  <tbody>\n",
       "    <tr>\n",
       "      <th>0</th>\n",
       "      <td>False</td>\n",
       "      <td>apple</td>\n",
       "    </tr>\n",
       "    <tr>\n",
       "      <th>1</th>\n",
       "      <td>True</td>\n",
       "      <td>cherry</td>\n",
       "    </tr>\n",
       "    <tr>\n",
       "      <th>2</th>\n",
       "      <td>False</td>\n",
       "      <td>orange</td>\n",
       "    </tr>\n",
       "    <tr>\n",
       "      <th>3</th>\n",
       "      <td>False</td>\n",
       "      <td>pineapple</td>\n",
       "    </tr>\n",
       "    <tr>\n",
       "      <th>4</th>\n",
       "      <td>True</td>\n",
       "      <td>strawberry</td>\n",
       "    </tr>\n",
       "  </tbody>\n",
       "</table>\n",
       "</div>"
      ],
      "text/plain": [
       "   IsBerry   FruitName\n",
       "0    False       apple\n",
       "1     True      cherry\n",
       "2    False      orange\n",
       "3    False   pineapple\n",
       "4     True  strawberry"
      ]
     },
     "execution_count": 4,
     "metadata": {},
     "output_type": "execute_result"
    }
   ],
   "source": [
    "import pandas as pd\n",
    "df_data_4 = pd.read_csv('dashdb.csv')\n",
    "df_data_4.head()"
   ]
  },
  {
   "cell_type": "markdown",
   "id": "405e4280",
   "metadata": {},
   "source": [
    "# 5. What do the keyword arguments delimiter and line terminator do?"
   ]
  },
  {
   "cell_type": "markdown",
   "id": "db86b3be",
   "metadata": {},
   "source": [
    "The line terminator is the character that comes at the end of a row. By default, the line terminator is a newline\n",
    "Where as delimiter is the character that comes in between the values in a row of csv.\n",
    "Delimiter and line terminator provide argument to the fuction what to look at as seperator for values and line terminator."
   ]
  },
  {
   "cell_type": "markdown",
   "id": "94a21ece",
   "metadata": {},
   "source": [
    "# 6. What function takes a string of JSON data and returns a Python data structure?"
   ]
  },
  {
   "cell_type": "code",
   "execution_count": 16,
   "id": "529c9ba7",
   "metadata": {},
   "outputs": [],
   "source": [
    "import json\n",
    "#File I/O Open function for read data from JSON File\n",
    "with open('json_file.json') as file_object:\n",
    "        # store file data in object\n",
    "        data = json.load(file_object)\n",
    "print(data)"
   ]
  },
  {
   "cell_type": "code",
   "execution_count": 17,
   "id": "2241f128",
   "metadata": {},
   "outputs": [
    {
     "data": {
      "text/plain": [
       "dict"
      ]
     },
     "execution_count": 17,
     "metadata": {},
     "output_type": "execute_result"
    }
   ],
   "source": [
    "type(data)"
   ]
  },
  {
   "cell_type": "markdown",
   "id": "c88e996a",
   "metadata": {},
   "source": [
    "# 7. What function takes a Python data structure and returns a string of JSON data?"
   ]
  },
  {
   "cell_type": "code",
   "execution_count": 14,
   "id": "6d11e323",
   "metadata": {},
   "outputs": [
    {
     "name": "stdout",
     "output_type": "stream",
     "text": [
      "{\"name\": \"John\", \"age\": 31, \"Salary\": 25000}\n"
     ]
    },
    {
     "data": {
      "text/plain": [
       "str"
      ]
     },
     "execution_count": 14,
     "metadata": {},
     "output_type": "execute_result"
    }
   ],
   "source": [
    "\n",
    "# Python program showing\n",
    "# use of json package\n",
    " \n",
    "import json\n",
    " \n",
    "# {key:value mapping}\n",
    "a ={\"name\":\"John\",\n",
    "   \"age\":31,\n",
    "    \"Salary\":25000}\n",
    " \n",
    "# conversion to JSON done by dumps() function\n",
    "b = json.dumps(a)\n",
    " \n",
    "# printing the output\n",
    "print(b)\n",
    "type(b)\n",
    "\n"
   ]
  },
  {
   "cell_type": "code",
   "execution_count": null,
   "id": "5776210b",
   "metadata": {},
   "outputs": [],
   "source": []
  }
 ],
 "metadata": {
  "kernelspec": {
   "display_name": "Python 3",
   "language": "python",
   "name": "python3"
  },
  "language_info": {
   "codemirror_mode": {
    "name": "ipython",
    "version": 3
   },
   "file_extension": ".py",
   "mimetype": "text/x-python",
   "name": "python",
   "nbconvert_exporter": "python",
   "pygments_lexer": "ipython3",
   "version": "3.8.12"
  }
 },
 "nbformat": 4,
 "nbformat_minor": 5
}
