{
 "cells": [
  {
   "cell_type": "markdown",
   "metadata": {},
   "source": [
    "1.What are the two values of the Boolean data type? How do you write them?\n",
    "\n",
    "True and False are the two values of the Boolean data type in python. They are written as \"True\" and \"False\" and represent 1 and 0 respectively."
   ]
  },
  {
   "cell_type": "markdown",
   "metadata": {},
   "source": [
    "2. What are the three different types of Boolean operators?\n",
    "Three basic boolean operator's are \"AND\", \"OR\" and \"NOT\".\n"
   ]
  },
  {
   "cell_type": "markdown",
   "metadata": {},
   "source": [
    "3. Make a list of each Boolean operator's truth tables (i.e. every possible combination of Boolean values for the operator and what it evaluate ).\n",
    "\n",
    "Condition 1  Condition 2   AND     OR     NOT\n",
    "\n",
    "  True         True       True     True   False\n",
    "  True         False      False    True   False\n",
    "  False        True       False    True   False\n",
    "  False        False      False    False  True"
   ]
  },
  {
   "cell_type": "markdown",
   "metadata": {},
   "source": [
    "4. What are the values of the following expressions?\n",
    "(5 > 4) and (3 == 5)...................False\n",
    "not (5 > 4)----------------------------False\n",
    "(5 > 4) or (3 == 5)....................True\n",
    "not ((5 > 4) or (3 == 5))..............False\n",
    "(True and True) and (True == False)....False\n",
    "(not False) or (not True)..............True\n"
   ]
  },
  {
   "cell_type": "markdown",
   "metadata": {},
   "source": [
    "5. What are the six comparison operators?\n",
    "\n",
    "Python has six comparison operators, which are as follows:\n",
    "\n",
    "1.Less than ( < )\n",
    "2.Less than or equal to (<=)\n",
    "3.Greater than (>)\n",
    "4.Greater than or equal to (>=)\n",
    "5.Equal to ( == )\n",
    "6.Not equal to ( != )"
   ]
  },
  {
   "cell_type": "markdown",
   "metadata": {},
   "source": [
    "6. How do you tell the difference between the equal to and assignment operators?Describe a condition and when you would use one.\n",
    "The \"=\" is a assignment operetor and it is used to assign the value on the right to the variable on the left. \n",
    "For example,"
   ]
  },
  {
   "cell_type": "code",
   "execution_count": 1,
   "metadata": {},
   "outputs": [],
   "source": [
    "a = 79273\n",
    "b = 26.87\n",
    "ch = \"Omkar\""
   ]
  },
  {
   "cell_type": "code",
   "execution_count": 3,
   "metadata": {},
   "outputs": [
    {
     "data": {
      "text/plain": [
       "(79273, 26.87, 'Omkar')"
      ]
     },
     "execution_count": 3,
     "metadata": {},
     "output_type": "execute_result"
    }
   ],
   "source": [
    "a,b,ch"
   ]
  },
  {
   "cell_type": "markdown",
   "metadata": {},
   "source": [
    "Here values 79272, 26.87 and \"Omkar\" is stored in variables a,b,ch respectively. \n",
    "Whereas, the \"==\" operator checks whether the two given operands are equal or not. If so, it returns True or False, otherwise. \n",
    "For example,"
   ]
  },
  {
   "cell_type": "code",
   "execution_count": 4,
   "metadata": {},
   "outputs": [
    {
     "data": {
      "text/plain": [
       "True"
      ]
     },
     "execution_count": 4,
     "metadata": {},
     "output_type": "execute_result"
    }
   ],
   "source": [
    "4==4"
   ]
  },
  {
   "cell_type": "code",
   "execution_count": 5,
   "metadata": {},
   "outputs": [
    {
     "data": {
      "text/plain": [
       "False"
      ]
     },
     "execution_count": 5,
     "metadata": {},
     "output_type": "execute_result"
    }
   ],
   "source": [
    "5==4"
   ]
  },
  {
   "cell_type": "markdown",
   "metadata": {},
   "source": [
    "7. Identify the three blocks in this code:\n",
    "spam = 0\n",
    "if spam == 10:\n",
    "print('eggs')\n",
    "if spam > 5:\n",
    "print('bacon')\n",
    "else:\n",
    "print('ham')\n",
    "print('spam')\n",
    "print('spam')\n"
   ]
  },
  {
   "cell_type": "code",
   "execution_count": 24,
   "metadata": {},
   "outputs": [
    {
     "name": "stdout",
     "output_type": "stream",
     "text": [
      "spam\n",
      "spam\n",
      "spam\n"
     ]
    }
   ],
   "source": [
    "spam = 4\n",
    "if spam==10:   # 1st Block\n",
    "    print('eggs')\n",
    "if spam >5:    # 2nd Blcok\n",
    "    print(\"bacon\")\n",
    "else:          # 3rd Block\n",
    "    print('spam')\n",
    "    print('spam')\n",
    "    print('spam')"
   ]
  },
  {
   "cell_type": "markdown",
   "metadata": {},
   "source": [
    "8. Write code that prints Hello if 1 is stored in spam, prints Howdy if 2 is stored in spam, and prints Greetings! if anything else is stored in spam."
   ]
  },
  {
   "cell_type": "code",
   "execution_count": 38,
   "metadata": {},
   "outputs": [
    {
     "name": "stdout",
     "output_type": "stream",
     "text": [
      "Press 1 to print 'Hello', Press 2 to print 'Howdy' and press anything to print 'Greetings!':4\n",
      "Greetings!\n"
     ]
    }
   ],
   "source": [
    "spam = int(input(\"Press 1 to print 'Hello', Press 2 to print 'Howdy' and press anything to print 'Greetings!':\"))\n",
    "\n",
    "if spam == 1:\n",
    "    print(\"Hello\")\n",
    "elif spam == 2:\n",
    "    print(\"Howdy\")\n",
    "else:\n",
    "    print(\"Greetings!\")"
   ]
  },
  {
   "cell_type": "code",
   "execution_count": null,
   "metadata": {},
   "outputs": [],
   "source": []
  }
 ],
 "metadata": {
  "kernelspec": {
   "display_name": "Python 3",
   "language": "python",
   "name": "python3"
  },
  "language_info": {
   "codemirror_mode": {
    "name": "ipython",
    "version": 3
   },
   "file_extension": ".py",
   "mimetype": "text/x-python",
   "name": "python",
   "nbconvert_exporter": "python",
   "pygments_lexer": "ipython3",
   "version": "3.8.5"
  }
 },
 "nbformat": 4,
 "nbformat_minor": 4
}
